{
 "cells": [
  {
   "cell_type": "markdown",
   "id": "6bc92363-ee9e-4859-a8e9-675cebfdfec9",
   "metadata": {},
   "source": [
    "# Python practice\n",
    "## Numpy, Pandas, Matplotlib"
   ]
  },
  {
   "cell_type": "markdown",
   "id": "5a66ee6c-4fba-418b-bf32-2e49d4f828cc",
   "metadata": {},
   "source": [
    "### 1. imports"
   ]
  },
  {
   "cell_type": "code",
   "execution_count": 14,
   "id": "db7c9fca-fd15-4cc3-b0f9-575e5933cbaf",
   "metadata": {},
   "outputs": [],
   "source": [
    "import pandas as pd\n",
    "import numpy as np\n",
    "import matplotlib.pyplot as plt"
   ]
  },
  {
   "cell_type": "code",
   "execution_count": 26,
   "id": "5213d9da-9888-400e-a44c-0f8aab37a594",
   "metadata": {},
   "outputs": [
    {
     "name": "stdout",
     "output_type": "stream",
     "text": [
      "[[[1.5 2.  3. ]\n",
      "  [4.  5.  6. ]]\n",
      "\n",
      " [[3.  2.  1. ]\n",
      "  [4.  5.  6. ]]]\n"
     ]
    }
   ],
   "source": [
    "# 1D, 2D and 3D arrays\n",
    "a = np.array([1,2,3])\n",
    "b = np.array([(1,2,3), (4,5,6)])\n",
    "c = np.array([[(1.5,2,3), (4,5,6)],[(3,2,1), (4,5,6)]], dtype = float)\n",
    "print(c)"
   ]
  },
  {
   "cell_type": "code",
   "execution_count": 57,
   "id": "b15c3504-9332-402b-b614-626709648e6e",
   "metadata": {},
   "outputs": [
    {
     "data": {
      "text/plain": [
       "array([[0.45034364, 0.468167  ],\n",
       "       [0.52277673, 0.01287641]])"
      ]
     },
     "execution_count": 57,
     "metadata": {},
     "output_type": "execute_result"
    }
   ],
   "source": [
    "a = np.zeros((3,4), dtype=np.int16) # (rows, column)\n",
    "b = np.ones((2,3), dtype=np.int16)\n",
    "# Returns evenly spaced values within a given interval and steps\n",
    "c = np.arange(10,50,5)\n",
    "# Returns evenly spaced values within a given interval and number of samples required\n",
    "d = np.linspace(0,5,6)\n",
    "# Create any dimensional array with a constant value\n",
    "e = np.full((2,2,2),7) # Dimension, and a constant value to populate\n",
    "# Create identity matrix of n rows and columns\n",
    "f = np.eye(4)\n",
    "# Create an array with random values\n",
    "g = np.random.random((2,2))\n",
    "# Create an empty array with uninitialized values\n",
    "h = np.empty((2,2)) \n",
    "g"
   ]
  },
  {
   "cell_type": "markdown",
   "id": "4714f05e-624a-4ac3-9f22-90fe136a55dc",
   "metadata": {},
   "source": [
    "### Inspection"
   ]
  },
  {
   "cell_type": "code",
   "execution_count": 61,
   "id": "c85208f8-1594-4c57-b7a2-ca8bbb493916",
   "metadata": {},
   "outputs": [
    {
     "name": "stdout",
     "output_type": "stream",
     "text": [
      "(3, 4)\n"
     ]
    },
    {
     "data": {
      "text/plain": [
       "8"
      ]
     },
     "execution_count": 61,
     "metadata": {},
     "output_type": "execute_result"
    }
   ],
   "source": [
    "print(a.shape)\n",
    "len(c) # equivalent to shape[0]"
   ]
  },
  {
   "cell_type": "code",
   "execution_count": null,
   "id": "efd08311-8edd-4074-9c6e-e97034e150d5",
   "metadata": {},
   "outputs": [],
   "source": []
  }
 ],
 "metadata": {
  "kernelspec": {
   "display_name": "Python 3 (ipykernel)",
   "language": "python",
   "name": "python3"
  },
  "language_info": {
   "codemirror_mode": {
    "name": "ipython",
    "version": 3
   },
   "file_extension": ".py",
   "mimetype": "text/x-python",
   "name": "python",
   "nbconvert_exporter": "python",
   "pygments_lexer": "ipython3",
   "version": "3.12.3"
  }
 },
 "nbformat": 4,
 "nbformat_minor": 5
}
